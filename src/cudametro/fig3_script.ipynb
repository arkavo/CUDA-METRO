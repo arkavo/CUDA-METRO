{
 "cells": [
  {
   "cell_type": "markdown",
   "metadata": {},
   "source": [
    "## Script to gnerate Fig. 3 of the paper\n",
    "\n",
    "This will run a simulation of of MnBr2 and CrInSe3 and generate 2 figures: the z-axis spin and spin map for the given simulations."
   ]
  },
  {
   "cell_type": "code",
   "execution_count": null,
   "metadata": {},
   "outputs": [],
   "source": [
    "import construct as cst\n",
    "import montecarlo as mc\n",
    "import numpy as np\n",
    "import tqdm as tqdm\n",
    "import sys\n",
    "import os"
   ]
  },
  {
   "cell_type": "markdown",
   "metadata": {},
   "source": [
    "## Warning\n",
    "\n",
    "In case of failure due to ```PyCUDA WARNING: a clean-up operation failed (dead context maybe?)\n",
    "cuMemFree failed: an illegal memory access was encountered```\n",
    "\n",
    "Please cut back resource use as follows:\n",
    "Go to config file ```../../configs/fig2_configs/fig2.json``` and reduce ```Blocks``` by half, double your ```Stability Runs``` and run again. Repeat as necessary till it runs (This should enable it to run on even low performance devices like laptops.) "
   ]
  },
  {
   "cell_type": "code",
   "execution_count": null,
   "metadata": {},
   "outputs": [],
   "source": [
    "config_name = \"fig3.json\"\n",
    "config_path = \"../../configs/fig3_configs/\""
   ]
  },
  {
   "cell_type": "code",
   "execution_count": null,
   "metadata": {},
   "outputs": [],
   "source": [
    "# Set your config file here\n",
    "test_mc0 = cst.MonteCarlo(config=config_path+config_name)\n",
    "\n",
    "# Initialize the Monte Carlo simulation\n",
    "test_mc0.mc_init()\n",
    "test_mc0.display_material()\n",
    "for i in tqdm.tqdm(range(test_mc0.S_Wrap), desc=\"Stability Runs\", unit=\"runs\", colour=\"green\"):\n",
    "    test_mc0.generate_random_numbers(test_mc0.stability_runs)\n",
    "    np.save(f\"{test_mc0.save_directory}/grid_{i:04d}\", test_mc0.run_mc_dmi_66612(test_mc0.T[0]))\n",
    "\n",
    "# Save the final state of the simulation \n",
    "# To visualize the final state, use the \"visualize.py\" script with appropriate directory"
   ]
  },
  {
   "cell_type": "code",
   "execution_count": null,
   "metadata": {},
   "outputs": [],
   "source": [
    "output_folder_name = test_mc0.save_directory"
   ]
  },
  {
   "cell_type": "code",
   "execution_count": null,
   "metadata": {},
   "outputs": [],
   "source": [
    "folder = output_folder_name\n",
    "\n",
    "viewer = cst.Analyze(folder, reverse=False)\n",
    "\n",
    "# Visualize the results\n",
    "# Spin configuration at the end of the simulation\n",
    "viewer.spin_view()\n",
    "# Quiver plot of the spins\n",
    "viewer.quiver_view()\n",
    "# The energy of the system\n",
    "viewer.en_66612()\n",
    "\n",
    "# Your Diagrams are now saved in the output folder. Use the 'reverse' flag if you want to quickly visualize the end state. \n",
    "# You can even delete data points should you wish to speed up your visualizer.\n",
    "# Note that your energy will also be counted in reverse if you used the reverse flag."
   ]
  }
 ],
 "metadata": {
  "kernelspec": {
   "display_name": "env",
   "language": "python",
   "name": "python3"
  },
  "language_info": {
   "name": "python",
   "version": "3.10.9"
  }
 },
 "nbformat": 4,
 "nbformat_minor": 2
}
