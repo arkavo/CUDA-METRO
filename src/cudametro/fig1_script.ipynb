{
 "cells": [
  {
   "cell_type": "markdown",
   "metadata": {},
   "source": [
    "## Script to generate data for Fig. 1 of the paper\n",
    "This will generate data for both Magnetization and Susceptibility of Biquadratic CrI3 for defined parallelizations as given in ```fig1_configs/px.json```. "
   ]
  },
  {
   "cell_type": "code",
   "execution_count": null,
   "metadata": {},
   "outputs": [],
   "source": [
    "# Import these libraries as is\n",
    "\n",
    "import construct as cst\n",
    "import montecarlo as mc\n",
    "import numpy as np\n",
    "import matplotlib.pyplot as plt"
   ]
  },
  {
   "cell_type": "markdown",
   "metadata": {},
   "source": [
    "Keep changing the config file to generate data for different parallelizations from ```p1``` to ```p4```\n",
    "\n",
    "The reason why you should separately do it is because the code might crash if you try to run it for all parallelizations at once. It is sectioned off at each parallelization to avoid this. The figure generation is also done separately for this purpose. Each run will generate its own data and figure. If you do not wish to use this script, feel free the extract the data in ```.npy``` format and compile your own figure. Note that numpy will be needed."
   ]
  },
  {
   "cell_type": "code",
   "execution_count": null,
   "metadata": {},
   "outputs": [],
   "source": [
    "# These are the default path values if you're executing from src directory. If you want to use your own config, change as necessary\n",
    "\n",
    "fpath = \"../../configs/fig1_configs/\"\n",
    "fname = \"p1.json\""
   ]
  },
  {
   "cell_type": "code",
   "execution_count": null,
   "metadata": {},
   "outputs": [],
   "source": [
    "test_mc0 = cst.MonteCarlo(config=fpath+fname)\n",
    "test_mc0.mc_init()\n",
    "test_mc0.display_material()\n",
    "M, X = np.array([]), np.array([])\n",
    "for t in test_mc0.T:\n",
    "    test_mc0.grid_reset()\n",
    "    test_mc0.generate_random_numbers(test_mc0.S_Wrap)\n",
    "    m, x = test_mc0.run_mc_tc_3636(t)\n",
    "    M = np.append(M, m)\n",
    "    X = np.append(X, x)\n",
    "np.save(f\"{test_mc0.save_directory}/BQM_{test_mc0.size}_{test_mc0.Blocks}\", M)\n",
    "np.save(f\"{test_mc0.save_directory}/BQX_{test_mc0.size}_{test_mc0.Blocks}\", X)\n",
    "\n",
    "X[0] = 0.0\n",
    "\n",
    "plt.plot(test_mc0.T, M/test_mc0.spin, label=\"M\")\n",
    "plt.title(f\"Magnetization vs Temperature of {test_mc0.MAT_NAME} at size {test_mc0.size}x{test_mc0.size}\")\n",
    "plt.savefig(f\"{test_mc0.save_directory}/M_{test_mc0.size}.png\")\n",
    "plt.close()\n",
    "plt.plot(test_mc0.T, X/X.max(), label=\"X\")\n",
    "plt.title(f\"Susceptibility vs Temperature of {test_mc0.MAT_NAME} at size {test_mc0.size}x{test_mc0.size}\")\n",
    "plt.savefig(f\"{test_mc0.save_directory}/X_{test_mc0.size}.png\")\n",
    "plt.close()\n",
    "M_1, X_1 = M, X"
   ]
  },
  {
   "cell_type": "markdown",
   "metadata": {},
   "source": [
    "Each of these will generate separate data files for Magnetization and Susceptibility.\n",
    "No need to rename anything, all will have unique names under their directories as ```BQM_size_parallelization```\n",
    "Copy all of them here and run the next cell to plot the data."
   ]
  },
  {
   "cell_type": "code",
   "execution_count": null,
   "metadata": {},
   "outputs": [],
   "source": [
    "M_1, X_1 = np.load(\"BQM_64_512.npy\"), np.load(\"BQX_64_512.npy\")\n",
    "M_2, X_2 = np.load(\"BQM_64_1024.npy\"), np.load(\"BQX_64_1024.npy\")\n",
    "M_3, X_3 = np.load(\"BQM_64_2048.npy\"), np.load(\"BQX_64_2048.npy\")\n",
    "M_4, X_4 = np.load(\"BQM_64_4096.npy\"), np.load(\"BQX_64_4096.npy\")\n",
    "\n",
    "Figure = plt.figure()\n",
    "plt.plot(test_mc0.T, M_1/test_mc0.spin, label=\"M_12.5\")\n",
    "plt.plot(test_mc0.T, M_2/test_mc0.spin, label=\"M_25\")\n",
    "plt.plot(test_mc0.T, M_3/test_mc0.spin, label=\"M_50\")\n",
    "plt.plot(test_mc0.T, M_4/test_mc0.spin, label=\"M_100\")\n",
    "plt.title(f\"Magnetization vs Temperature of {test_mc0.MAT_NAME} at size {test_mc0.size}x{test_mc0.size}\")\n",
    "plt.legend()\n",
    "plt.savefig(f\"{test_mc0.save_directory}/M_{test_mc0.size}_all.png\")\n",
    "plt.close()\n",
    "\n",
    "Figure = plt.figure()\n",
    "plt.plot(test_mc0.T, X_1/X_1.max(), label=\"X_12.5\")\n",
    "plt.plot(test_mc0.T, X_2/X_2.max(), label=\"X_25\")\n",
    "plt.plot(test_mc0.T, X_3/X_3.max(), label=\"X_50\")\n",
    "plt.plot(test_mc0.T, X_4/X_4.max(), label=\"X_100\")\n",
    "plt.title(f\"Susceptibility vs Temperature of {test_mc0.MAT_NAME} at size {test_mc0.size}x{test_mc0.size}\")\n",
    "plt.legend()\n",
    "plt.savefig(f\"{test_mc0.save_directory}/X_{test_mc0.size}_all.png\")\n",
    "plt.close()"
   ]
  }
 ],
 "metadata": {
  "kernelspec": {
   "display_name": "Python 3",
   "language": "python",
   "name": "python3"
  },
  "language_info": {
   "name": "python",
   "version": "3.11.0"
  }
 },
 "nbformat": 4,
 "nbformat_minor": 2
}
